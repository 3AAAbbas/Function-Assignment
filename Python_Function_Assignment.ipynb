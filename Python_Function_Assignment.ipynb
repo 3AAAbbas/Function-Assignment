{
  "nbformat": 4,
  "nbformat_minor": 0,
  "metadata": {
    "colab": {
      "provenance": []
    },
    "kernelspec": {
      "name": "python3",
      "display_name": "Python 3"
    },
    "language_info": {
      "name": "python"
    }
  },
  "cells": [
    {
      "cell_type": "markdown",
      "source": [
        "# Question 0ne:"
      ],
      "metadata": {
        "id": "dnKc3PoB8bqU"
      }
    },
    {
      "cell_type": "markdown",
      "source": [
        "#1a Write a function called display_message() that prints one sentence telling everyone what you are learning about in this chapter. Call the function, and make sure the message displays correctly.\n"
      ],
      "metadata": {
        "id": "Uf38LDZL5JlA"
      }
    },
    {
      "cell_type": "code",
      "execution_count": 3,
      "metadata": {
        "id": "YftLedXg423s"
      },
      "outputs": [],
      "source": [
        "def display_message():\n",
        "    \"\"\"Prints a message about what i have being learned in this chapter.\"\"\"\n",
        "    print(\"In this chapter, I am learning about functions in Python; how to define a function, Passing Information to a Function, Arguments and parameteress .\")"
      ]
    },
    {
      "cell_type": "markdown",
      "source": [
        "\n",
        "### Call the function to display the message"
      ],
      "metadata": {
        "id": "9gCcM26r7g6J"
      }
    },
    {
      "cell_type": "code",
      "source": [
        "display_message()"
      ],
      "metadata": {
        "colab": {
          "base_uri": "https://localhost:8080/"
        },
        "id": "FBSfXzT67l92",
        "outputId": "7ab46949-60b7-46f1-c772-9118d4e56823"
      },
      "execution_count": 4,
      "outputs": [
        {
          "output_type": "stream",
          "name": "stdout",
          "text": [
            "In this chapter, I am learning about functions in Python; how to define a function, Passing Information to a Function, Arguments and parameteress .\n"
          ]
        }
      ]
    },
    {
      "cell_type": "markdown",
      "source": [
        "#1b Write a function called favorite_book() that accepts one parameter, title. The function should print a message, such as One of my favorite books is Alice in Wonderland. Call the function, making sure to include a book title as an argument in the function call."
      ],
      "metadata": {
        "id": "asDTxRPK5aSw"
      }
    },
    {
      "cell_type": "code",
      "source": [
        "def favorite_book(title):\n",
        "    \"\"\"Prints a message about a favorite book.\"\"\"\n",
        "    print(f\"One of my favorite books is {title}.\")\n"
      ],
      "metadata": {
        "id": "gOuyf5yz8BB6"
      },
      "execution_count": 5,
      "outputs": []
    },
    {
      "cell_type": "markdown",
      "source": [
        "### Call the function with a specific book title\n"
      ],
      "metadata": {
        "id": "nN5qUcDN8RVH"
      }
    },
    {
      "cell_type": "code",
      "source": [
        "favorite_book(\"Alice in Wonderland\")"
      ],
      "metadata": {
        "colab": {
          "base_uri": "https://localhost:8080/"
        },
        "id": "wmkFx8pJ8U0p",
        "outputId": "133f4000-a4e3-42c9-c048-db906b585508"
      },
      "execution_count": 6,
      "outputs": [
        {
          "output_type": "stream",
          "name": "stdout",
          "text": [
            "One of my favorite books is Alice in Wonderland.\n"
          ]
        }
      ]
    },
    {
      "cell_type": "markdown",
      "source": [
        "#  Question two:\n"
      ],
      "metadata": {
        "id": "Nt9p6Olr8gGW"
      }
    },
    {
      "cell_type": "markdown",
      "source": [
        "## 2a) Modify the make_shirt() function so that shirts are large by default with a message that reads I love Python. Make a large shirt and a medium shirt with the default message, and a shirt of any size with a different message."
      ],
      "metadata": {
        "id": "Vr_PTT_a81fH"
      }
    },
    {
      "cell_type": "code",
      "source": [
        "def make_shirt(size='large', message='I love Python'):\n",
        "    \"\"\"Prints a message about the size and message of a shirt.\"\"\"\n",
        "    print(f\"Shirt size: {size.title()}, Message: {message}\")\n",
        "make_shirt()\n",
        "make_shirt(size='medium')\n",
        "make_shirt(size='small', message='Keep Coding!')"
      ],
      "metadata": {
        "colab": {
          "base_uri": "https://localhost:8080/"
        },
        "id": "ppW2ocXx85_L",
        "outputId": "ea509823-3ead-4411-8f4e-5cd35acfdb45"
      },
      "execution_count": 7,
      "outputs": [
        {
          "output_type": "stream",
          "name": "stdout",
          "text": [
            "Shirt size: Large, Message: I love Python\n",
            "Shirt size: Medium, Message: I love Python\n",
            "Shirt size: Small, Message: Keep Coding!\n"
          ]
        }
      ]
    },
    {
      "cell_type": "markdown",
      "source": [
        "## 2b) Write a function called describe_city() that accepts the name of a city and its country. The function should print a simple sentence, such as Reykjavik is in Iceland. Give the parameter for the country a default value. Call your function for three different cities, at least one of which is not in the default country\n"
      ],
      "metadata": {
        "id": "ra07S54H9CeW"
      }
    },
    {
      "cell_type": "code",
      "source": [
        "def describe_city(city, country='Default Country'):\n",
        "    \"\"\"Prints a sentence describing the city and its country.\"\"\"\n",
        "    print(f\"{city} is in {country}.\")\n",
        "describe_city(\"Reykjavik\", \"Iceland\")\n",
        "describe_city(\"Kano\", \"Nigeria\")\n",
        "describe_city(\"Maradi\", \"Niger\")"
      ],
      "metadata": {
        "colab": {
          "base_uri": "https://localhost:8080/"
        },
        "id": "ynLmNFZM9MIv",
        "outputId": "a026a3c2-34ca-4f6c-e9cb-20992fe2bde6"
      },
      "execution_count": 8,
      "outputs": [
        {
          "output_type": "stream",
          "name": "stdout",
          "text": [
            "Reykjavik is in Iceland.\n",
            "Kano is in Nigeria.\n",
            "Maradi is in Niger.\n"
          ]
        }
      ]
    },
    {
      "cell_type": "markdown",
      "source": [
        "# Question Three:"
      ],
      "metadata": {
        "id": "fqhSIt2v-PU_"
      }
    },
    {
      "cell_type": "markdown",
      "source": [
        "## 3a) Write a function called city_country() that takes in the name of a city and its country. The function should return a string formatted like this: \"Santiago, Chile\" Call your function with at least three city-country pairs, and print the values that are returned"
      ],
      "metadata": {
        "id": "tknIfDRN-Vc4"
      }
    },
    {
      "cell_type": "code",
      "source": [
        "def city_country(city, country):\n",
        "    \"\"\"Returns a formatted string with the city and its country.\"\"\"\n",
        "    return f\"{city}, {country}\"\n",
        "\n",
        "location1 = city_country(\"Santiago\", \"Chile\")\n",
        "location2 = city_country(\"Tokyo\", \"Japan\")\n",
        "location3 = city_country(\"Berlin\", \"Germany\")"
      ],
      "metadata": {
        "id": "8CtuclVR-R8z"
      },
      "execution_count": 9,
      "outputs": []
    },
    {
      "cell_type": "markdown",
      "source": [
        "### Print the values that are returned"
      ],
      "metadata": {
        "id": "c6c0qso6_SdO"
      }
    },
    {
      "cell_type": "code",
      "source": [
        "print(location1)\n",
        "print(location2)\n",
        "print(location3)"
      ],
      "metadata": {
        "colab": {
          "base_uri": "https://localhost:8080/"
        },
        "id": "XlEDvEWl_aj_",
        "outputId": "82490067-ae47-4131-8025-d4867eb39cb3"
      },
      "execution_count": 10,
      "outputs": [
        {
          "output_type": "stream",
          "name": "stdout",
          "text": [
            "Santiago, Chile\n",
            "Tokyo, Japan\n",
            "Berlin, Germany\n"
          ]
        }
      ]
    },
    {
      "cell_type": "markdown",
      "source": [
        "# 3b) Write a function called make_album() that builds a dictionary describing a music album. The function should take in an artist name and an album title, and it should return a dictionary containing these two pieces of information. Use the function to make three dictionaries representing different albums. Print each return value to show that the dictionaries are storing the album information correctly. Use None to add an optional parameter to make_album() that allows you to store the number of songs on an album. If the calling line includes a value for the number of songs, add that value to the album’s dictionary. Make at least one new function call that includes the number of songs on an album.\n"
      ],
      "metadata": {
        "id": "QdTJQeZV_d2j"
      }
    },
    {
      "cell_type": "code",
      "source": [
        "def make_album(artist, title, songs=None):\n",
        "    \"\"\"Builds a dictionary describing a music album.\"\"\"\n",
        "    album = {'artist': artist, 'title': title}\n",
        "    if songs is not None:\n",
        "        album['songs'] = songs\n",
        "    return album\n",
        "\n",
        "album1 = make_album(\"Adele\", \"21\", 12)\n",
        "album2 = make_album(\"Ed Sheeran\", \"Divide\", 16)\n",
        "album3 = make_album(\"Taylor Swift\", \"1989\")"
      ],
      "metadata": {
        "id": "ixB1kbDH_w5M"
      },
      "execution_count": 11,
      "outputs": []
    },
    {
      "cell_type": "markdown",
      "source": [
        "### Print each return value to show that the dictionaries are storing the album information correctly"
      ],
      "metadata": {
        "id": "4ahdTSSXAL1W"
      }
    },
    {
      "cell_type": "code",
      "source": [
        "print(album1)\n",
        "print(album2)\n",
        "print(album3)"
      ],
      "metadata": {
        "colab": {
          "base_uri": "https://localhost:8080/"
        },
        "id": "XKNzDqXWAQeF",
        "outputId": "06c91ef4-a738-4a3b-e9fd-a17b38b99bfe"
      },
      "execution_count": 12,
      "outputs": [
        {
          "output_type": "stream",
          "name": "stdout",
          "text": [
            "{'artist': 'Adele', 'title': '21', 'songs': 12}\n",
            "{'artist': 'Ed Sheeran', 'title': 'Divide', 'songs': 16}\n",
            "{'artist': 'Taylor Swift', 'title': '1989'}\n"
          ]
        }
      ]
    },
    {
      "cell_type": "markdown",
      "source": [
        "## Make a new function call that includes the number of songs on an album"
      ],
      "metadata": {
        "id": "hIJ5ymumAU6d"
      }
    },
    {
      "cell_type": "code",
      "source": [
        "album4 = make_album(\"Imagine Dragons\", \"Evolve\", 11)\n",
        "print(album4)"
      ],
      "metadata": {
        "colab": {
          "base_uri": "https://localhost:8080/"
        },
        "id": "rflLqSsKAXbi",
        "outputId": "9f6b969b-d39f-4a5a-a25f-c7f99267d6a5"
      },
      "execution_count": 13,
      "outputs": [
        {
          "output_type": "stream",
          "name": "stdout",
          "text": [
            "{'artist': 'Imagine Dragons', 'title': 'Evolve', 'songs': 11}\n"
          ]
        }
      ]
    },
    {
      "cell_type": "markdown",
      "source": [
        "# Start with your program from Exercise 8-7. Write a while loop that allows users to enter an album’s artist and title. Once you have that information, call make_album() with the user’s input and print the dictionary that’s created. Be sure to include a quit value in the while loop"
      ],
      "metadata": {
        "id": "FkbCR8o4AfbB"
      }
    },
    {
      "cell_type": "code",
      "source": [
        "def make_album(artist, title, songs=None):\n",
        "    \"\"\"Builds a dictionary describing a music album.\"\"\"\n",
        "    album = {'artist': artist, 'title': title}\n",
        "    if songs is not None:\n",
        "        album['songs'] = songs\n",
        "    return album\n",
        "\n",
        "albums = []\n",
        "\n",
        "while True:\n",
        "    artist_input = input(\"Enter the artist (or 'quit' to exit): \")\n",
        "\n",
        "    if artist_input.lower() == 'quit':\n",
        "        break\n",
        "\n",
        "    title_input = input(\"Enter the album title: \")\n",
        "    songs_input = input(\"Enter the number of songs (or press Enter to skip): \")\n",
        "\n",
        "    if songs_input:\n",
        "        songs_input = int(songs_input)\n",
        "\n",
        "    user_album = make_album(artist_input, title_input, songs_input)\n",
        "    albums.append(user_album)"
      ],
      "metadata": {
        "colab": {
          "base_uri": "https://localhost:8080/"
        },
        "id": "3pe6ugqsAkOb",
        "outputId": "28bdc491-4a83-442d-c360-5e72ac19e7fd"
      },
      "execution_count": 14,
      "outputs": [
        {
          "name": "stdout",
          "output_type": "stream",
          "text": [
            "Enter the artist (or 'quit' to exit): Adele\n",
            "Enter the album title: Album1\n",
            "Enter the number of songs (or press Enter to skip): 12\n",
            "Enter the artist (or 'quit' to exit): quit\n"
          ]
        }
      ]
    },
    {
      "cell_type": "markdown",
      "source": [
        "## Print the dictionaries created from user input\n"
      ],
      "metadata": {
        "id": "7UBtNiEZBL9i"
      }
    },
    {
      "cell_type": "code",
      "source": [
        "for album in albums:\n",
        "    print(album)"
      ],
      "metadata": {
        "colab": {
          "base_uri": "https://localhost:8080/"
        },
        "id": "fvqCfrXlBOkR",
        "outputId": "e097d1a5-da2a-4a4b-ceb6-dcf67d1f4136"
      },
      "execution_count": 15,
      "outputs": [
        {
          "output_type": "stream",
          "name": "stdout",
          "text": [
            "{'artist': 'Adele', 'title': 'Album1', 'songs': 12}\n"
          ]
        }
      ]
    },
    {
      "cell_type": "markdown",
      "source": [
        "# Question Four:"
      ],
      "metadata": {
        "id": "z_VvFuEkBusi"
      }
    },
    {
      "cell_type": "markdown",
      "source": [
        "# 4a)Make a list containing a series of short text messages. Pass the list to a function called show_messages(), which prints each text message.\n"
      ],
      "metadata": {
        "id": "fauwj8ESBTTJ"
      }
    },
    {
      "cell_type": "code",
      "source": [
        "def show_messages(messages):\n",
        "    \"\"\"Prints each text message from the list.\"\"\"\n",
        "    for message in messages:\n",
        "        print(message)\n",
        "\n",
        "text_messages = [\n",
        "    \"Hello, how are you?\",\n",
        "    \"Don't forget to do your Python Function Assigmnet.\",\n",
        "    \"Python is a powerful language!\",\n",
        "    \"Meeting at 11 AM for submission.\"\n",
        "]\n"
      ],
      "metadata": {
        "id": "q0_RS90MB5v2"
      },
      "execution_count": 18,
      "outputs": []
    },
    {
      "cell_type": "markdown",
      "source": [
        "# Call the show_messages() function with the list"
      ],
      "metadata": {
        "id": "0HJClsg0CJor"
      }
    },
    {
      "cell_type": "code",
      "source": [
        "show_messages(text_messages)"
      ],
      "metadata": {
        "colab": {
          "base_uri": "https://localhost:8080/"
        },
        "id": "Lykmazb_CL7V",
        "outputId": "49200a0f-532a-4217-f1b4-d8bfcc0a12f1"
      },
      "execution_count": 19,
      "outputs": [
        {
          "output_type": "stream",
          "name": "stdout",
          "text": [
            "Hello, how are you?\n",
            "Don't forget to do your Python Function Assigmnet.\n",
            "Python is a powerful language!\n",
            "Meeting at 11 AM for submission.\n"
          ]
        }
      ]
    },
    {
      "cell_type": "markdown",
      "source": [
        "# 4b)Sending Messages: Start with a copy of your program from Exercise 8-9  Write a function called send_messages() that prints each text message and  moves each message to a new list called sent_messages as it’s printed. After  calling the function, print both of your lists to make sure the messages were moved correctly.\n"
      ],
      "metadata": {
        "id": "XPADNwBFB6aA"
      }
    },
    {
      "cell_type": "code",
      "source": [
        "def send_messages(messages, sent_messages):\n",
        "    \"\"\"Prints each text message, moves it to sent_messages list.\"\"\"\n",
        "    while messages:\n",
        "        current_message = messages.pop(0)\n",
        "        print(current_message)\n",
        "        sent_messages.append(current_message)\n",
        "\n",
        "text_messages = [\n",
        "    \"Hello, how are you?\",\n",
        "    \"Don't forget to do your Python Function Assigmnet.\",\n",
        "    \"Python is a powerful language!\",\n",
        "    \"Meeting at 11 AM for submission.\"\n",
        "]\n",
        "sent_messages = []\n",
        "\n",
        "send_messages(text_messages, sent_messages)"
      ],
      "metadata": {
        "colab": {
          "base_uri": "https://localhost:8080/"
        },
        "id": "IbPuJt_gB8Sc",
        "outputId": "773c97c0-eb5a-4283-8b47-2fe01b89a418"
      },
      "execution_count": 20,
      "outputs": [
        {
          "output_type": "stream",
          "name": "stdout",
          "text": [
            "Hello, how are you?\n",
            "Don't forget to do your Python Function Assigmnet.\n",
            "Python is a powerful language!\n",
            "Meeting at 11 AM for submission.\n"
          ]
        }
      ]
    },
    {
      "cell_type": "markdown",
      "source": [
        "# Print both lists to ensure messages were moved correctly\n"
      ],
      "metadata": {
        "id": "yWFRT1RLC13-"
      }
    },
    {
      "cell_type": "code",
      "source": [
        "print(\"Original messages:\", text_messages)\n",
        "print(\"Sent messages:\", sent_messages)"
      ],
      "metadata": {
        "colab": {
          "base_uri": "https://localhost:8080/"
        },
        "id": "Oq4thLOoC3mf",
        "outputId": "3a599630-574e-4380-dd4e-4f426a387a1b"
      },
      "execution_count": 21,
      "outputs": [
        {
          "output_type": "stream",
          "name": "stdout",
          "text": [
            "Original messages: []\n",
            "Sent messages: ['Hello, how are you?', \"Don't forget to do your Python Function Assigmnet.\", 'Python is a powerful language!', 'Meeting at 11 AM for submission.']\n"
          ]
        }
      ]
    },
    {
      "cell_type": "markdown",
      "source": [
        "# 4c)Archived Messages: Start with your work from Exercise 8-10. Call the function send_messages() with a copy of the list of messages. After calling the function, print both of your lists to show that the original list has retained its messages."
      ],
      "metadata": {
        "id": "1guOWb6cB84x"
      }
    },
    {
      "cell_type": "code",
      "source": [
        "def send_messages(messages, sent_messages):\n",
        "    \"\"\"Prints each text message, moves it to sent_messages list.\"\"\"\n",
        "    while messages:\n",
        "        current_message = messages.pop(0)\n",
        "        print(current_message)\n",
        "        sent_messages.append(current_message)\n",
        "\n",
        "text_messages = [\n",
        "    \"Hello, how are you?\",\n",
        "    \"Don't forget to do your Python Function Assigmnet.\",\n",
        "    \"Python is a powerful language!\",\n",
        "    \"Meeting at 11 AM for submission.\"\n",
        "]\n",
        "\n",
        "sent_messages = []\n",
        "\n",
        "send_messages(text_messages[:], sent_messages)"
      ],
      "metadata": {
        "colab": {
          "base_uri": "https://localhost:8080/"
        },
        "id": "TO9AVpbjB9y6",
        "outputId": "fa078ac0-26e4-4965-8f7f-ab6c3b70ba41"
      },
      "execution_count": 22,
      "outputs": [
        {
          "output_type": "stream",
          "name": "stdout",
          "text": [
            "Hello, how are you?\n",
            "Don't forget to do your Python Function Assigmnet.\n",
            "Python is a powerful language!\n",
            "Meeting at 11 AM for submission.\n"
          ]
        }
      ]
    },
    {
      "cell_type": "markdown",
      "source": [
        "## Print both lists to show that the original list has retained its messages"
      ],
      "metadata": {
        "id": "Vtv0e06uDWJD"
      }
    },
    {
      "cell_type": "code",
      "source": [
        "print(\"Original messages:\", text_messages)\n",
        "print(\"Sent messages:\", sent_messages)"
      ],
      "metadata": {
        "colab": {
          "base_uri": "https://localhost:8080/"
        },
        "id": "2BTcuoWoDZJE",
        "outputId": "8880c23b-45a0-48ea-8bd5-bbeb0a792511"
      },
      "execution_count": 23,
      "outputs": [
        {
          "output_type": "stream",
          "name": "stdout",
          "text": [
            "Original messages: ['Hello, how are you?', \"Don't forget to do your Python Function Assigmnet.\", 'Python is a powerful language!', 'Meeting at 11 AM for submission.']\n",
            "Sent messages: ['Hello, how are you?', \"Don't forget to do your Python Function Assigmnet.\", 'Python is a powerful language!', 'Meeting at 11 AM for submission.']\n"
          ]
        }
      ]
    },
    {
      "cell_type": "markdown",
      "source": [
        "# Question Five:"
      ],
      "metadata": {
        "id": "41mST624Di2M"
      }
    },
    {
      "cell_type": "markdown",
      "source": [
        "# 5a) Sandwiches: Write a function that accepts a list of items a person wants on a sandwich. The function should have one parameter that collects as many items as the function call provides, and it should print a summary of the sandwich that’s being ordered. Call the function three times, using a different number of arguments each time."
      ],
      "metadata": {
        "id": "1U7IYugCDlvI"
      }
    },
    {
      "cell_type": "code",
      "source": [
        "def make_sandwich(*items):\n",
        "    \"\"\"Prints a summary of the sandwich being ordered.\"\"\"\n",
        "    print(\"Making a sandwich with the following items:\")\n",
        "    for item in items:\n",
        "        print(f\"- {item}\")\n",
        "    print(\"Enjoy your sandwich!\\n\")\n"
      ],
      "metadata": {
        "id": "IGzXd_vYDkxv"
      },
      "execution_count": 24,
      "outputs": []
    },
    {
      "cell_type": "markdown",
      "source": [
        "## Call the function three times with a different number of arguments each time"
      ],
      "metadata": {
        "id": "Xu3yEpcVEO_V"
      }
    },
    {
      "cell_type": "code",
      "source": [
        "make_sandwich(\"Turkey\", \"Cheese\", \"Lettuce\")\n",
        "make_sandwich(\"Hams\", \"Swiss\")\n",
        "make_sandwich(\"Peanut Butter\", \"Jelly\", \"Banana\", \"Honey\")"
      ],
      "metadata": {
        "colab": {
          "base_uri": "https://localhost:8080/"
        },
        "id": "u9FJXdFgESaz",
        "outputId": "840f7d79-6cf6-4110-dcf3-ae2cf99bb408"
      },
      "execution_count": 26,
      "outputs": [
        {
          "output_type": "stream",
          "name": "stdout",
          "text": [
            "Making a sandwich with the following items:\n",
            "- Turkey\n",
            "- Cheese\n",
            "- Lettuce\n",
            "Enjoy your sandwich!\n",
            "\n",
            "Making a sandwich with the following items:\n",
            "- Hams\n",
            "- Swiss\n",
            "Enjoy your sandwich!\n",
            "\n",
            "Making a sandwich with the following items:\n",
            "- Peanut Butter\n",
            "- Jelly\n",
            "- Banana\n",
            "- Honey\n",
            "Enjoy your sandwich!\n",
            "\n"
          ]
        }
      ]
    },
    {
      "cell_type": "markdown",
      "source": [
        "# 5b) User Profile: Start with a copy of user_profile.py from page 148. Build a profile of yourself by calling build_profile(), using your first and last names and three other key-value pairs that describe you."
      ],
      "metadata": {
        "id": "lH_sX5WDD-8G"
      }
    },
    {
      "cell_type": "code",
      "source": [
        "def build_profile(first_name, last_name, **additional_info):\n",
        "    \"\"\"Builds a user profile with first name, last name, and additional information.\"\"\"\n",
        "    profile = {'first_name': first_name, 'last_name': last_name}\n",
        "    profile.update(additional_info)\n",
        "    return profile\n",
        "\n",
        "my_profile = build_profile(\n",
        "    first_name=\"YourFirstName\",\n",
        "    last_name=\"YourLastName\",\n",
        "    age=25,\n",
        "    occupation=\"Software Developer\",\n",
        "    hobbies=[\"Reading\", \"Coding\", \"Traveling\"]\n",
        ")\n",
        "\n",
        "print(my_profile)"
      ],
      "metadata": {
        "colab": {
          "base_uri": "https://localhost:8080/"
        },
        "id": "mWy0CUJ_EBgw",
        "outputId": "c1d206b1-c2bc-4df8-f9f7-339c8cc7acce"
      },
      "execution_count": 27,
      "outputs": [
        {
          "output_type": "stream",
          "name": "stdout",
          "text": [
            "{'first_name': 'YourFirstName', 'last_name': 'YourLastName', 'age': 25, 'occupation': 'Software Developer', 'hobbies': ['Reading', 'Coding', 'Traveling']}\n"
          ]
        }
      ]
    },
    {
      "cell_type": "markdown",
      "source": [
        "# 5c) Cars: Write a function that stores information about a car in a dictionary. The function should always receive a manufacturer and a model name. It should then accept an arbitrary number of keyword arguments. Call the function with the required information and two other name-value pairs, such as a color or an optional feature. Your function should work for a call like this one:\n",
        "car = make_car('subaru', 'outback', color='blue', tow_package=True)\n",
        "Print the dictionary that’s returned to make sure all the information was stored correctly."
      ],
      "metadata": {
        "id": "uh7c9V4iECDl"
      }
    },
    {
      "cell_type": "code",
      "source": [
        "def make_car(manufacturer, model, **car_info):\n",
        "    \"\"\"Stores information about a car in a dictionary.\"\"\"\n",
        "    car = {'manufacturer': manufacturer, 'model': model}\n",
        "    car.update(car_info)\n",
        "    return car\n",
        "\n",
        "car = make_car('subaru', 'outback', color='blue', tow_package=True)\n",
        "print(car)"
      ],
      "metadata": {
        "colab": {
          "base_uri": "https://localhost:8080/"
        },
        "id": "UQJWtN68ECmX",
        "outputId": "155cc3c2-adf2-4846-c216-c4b4e6bc7093"
      },
      "execution_count": 28,
      "outputs": [
        {
          "output_type": "stream",
          "name": "stdout",
          "text": [
            "{'manufacturer': 'subaru', 'model': 'outback', 'color': 'blue', 'tow_package': True}\n"
          ]
        }
      ]
    },
    {
      "cell_type": "markdown",
      "source": [
        "# Question Six:"
      ],
      "metadata": {
        "id": "BV5e97JHE2n4"
      }
    },
    {
      "cell_type": "markdown",
      "source": [
        "# 6a) Printing Models: Put the functions for the example printing_models.py in a separate file called printing_functions.py. Write an import statement at the top of printing_models.py, and modify the file to use the imported functions."
      ],
      "metadata": {
        "id": "Tgl8nMj9FAn5"
      }
    },
    {
      "cell_type": "markdown",
      "source": [
        "- printing_models.py"
      ],
      "metadata": {
        "id": "bMEBcJMCFtLz"
      }
    },
    {
      "cell_type": "code",
      "source": [
        "import printing_functions\n",
        "\n",
        "unprinted_designs = ['iphone case', 'robot pendant', 'dodecahedron']\n",
        "completed_models = []\n",
        "\n",
        "printing_functions.print_models(unprinted_designs, completed_models)\n",
        "printing_functions.show_completed_models(completed_models)"
      ],
      "metadata": {
        "colab": {
          "base_uri": "https://localhost:8080/"
        },
        "id": "dIVo_0GJFx1R",
        "outputId": "fe8fc5f8-31ae-4051-87e7-ca91dab79bf2"
      },
      "execution_count": 36,
      "outputs": [
        {
          "output_type": "stream",
          "name": "stdout",
          "text": [
            "Printing model: dodecahedron\n",
            "Printing model: robot pendant\n",
            "Printing model: iphone case\n",
            "\n",
            "Completed models:\n",
            "dodecahedron\n",
            "robot pendant\n",
            "iphone case\n"
          ]
        }
      ]
    },
    {
      "cell_type": "markdown",
      "source": [
        "# 6b) Imports: Using a program you wrote that has one function in it, store that function in a separate file. Import the function into your main program file, and call the function using each of these approaches:\n",
        "import module_name\n",
        "from module_name import function_name\n",
        "from module_name import function_name as fn\n",
        "import module_name as mn\n",
        "from module_name import *"
      ],
      "metadata": {
        "id": "ATsbawJWFSNT"
      }
    },
    {
      "cell_type": "code",
      "source": [
        "import my_program\n",
        "my_program.my_function()\n",
        "\n",
        "from my_program import my_function\n",
        "my_function()\n",
        "\n",
        "from my_program import my_function as fn\n",
        "fn()\n",
        "\n",
        "import my_program as mn\n",
        "mn.my_function()\n",
        "from my_program import *\n",
        "\n",
        "my_function()"
      ],
      "metadata": {
        "colab": {
          "base_uri": "https://localhost:8080/"
        },
        "id": "OW6W1RmcFUJy",
        "outputId": "20253b57-8974-4f93-8b08-2c38d044d893"
      },
      "execution_count": 38,
      "outputs": [
        {
          "output_type": "stream",
          "name": "stdout",
          "text": [
            "Hello from my_function!\n",
            "Hello from my_function!\n",
            "Hello from my_function!\n",
            "Hello from my_function!\n",
            "Hello from my_function!\n"
          ]
        }
      ]
    },
    {
      "cell_type": "markdown",
      "source": [
        "# 6c) Styling Functions: Choose any three programs you wrote for this chapter, and make sure they follow the styling guidelines described in this section."
      ],
      "metadata": {
        "id": "URsoZy2CFU7L"
      }
    },
    {
      "cell_type": "markdown",
      "source": [
        "### music_functions.py"
      ],
      "metadata": {
        "id": "OPoWZwotIpV3"
      }
    },
    {
      "cell_type": "code",
      "source": [
        "def make_album(artist, title, songs=None):\n",
        "    \"\"\"Builds a dictionary describing a music album.\"\"\"\n",
        "    album = {'artist': artist, 'title': title}\n",
        "    if songs is not None:\n",
        "        album['songs'] = songs\n",
        "    return album\n",
        "\n",
        "def describe_album(album):\n",
        "    \"\"\"Prints information about a music album.\"\"\"\n",
        "    print(f\"Album: {album['title']} by {album['artist']}\")\n",
        "    if 'songs' in album:\n",
        "        print(f\"Number of Songs: {album['songs']}\")\n"
      ],
      "metadata": {
        "id": "DLeHADeJFVeL"
      },
      "execution_count": 39,
      "outputs": []
    }
  ]
}